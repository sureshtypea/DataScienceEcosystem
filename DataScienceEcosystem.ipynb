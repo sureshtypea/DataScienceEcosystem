{
 "cells": [
  {
   "cell_type": "markdown",
   "id": "950a64a9-cdc1-48d8-902b-e67f66b8a992",
   "metadata": {},
   "source": [
    "# Data Science Tools and Ecosystem\n"
   ]
  },
  {
   "cell_type": "markdown",
   "id": "723c50fd-d3b1-41c4-b372-8d7812e232bc",
   "metadata": {},
   "source": [
    "In this notebook, Data Science Tools and Ecosystem are summarized.\n"
   ]
  },
  {
   "cell_type": "markdown",
   "id": "a8ab31b7-fc4b-4487-9aa8-b226f3933d29",
   "metadata": {},
   "source": [
    "Some of the popular languages that Data Scientists use are:\n",
    "\n",
    "1. Python\n",
    "2. R\n",
    "3. SQL\n",
    "4. Julia\n",
    "5. Scala\n"
   ]
  },
  {
   "cell_type": "markdown",
   "id": "fae4b3a2-59bf-434c-b8c8-82f30e97d0ce",
   "metadata": {},
   "source": [
    "Some of the commonly used libraries used by Data Scientists include:\n",
    "\n",
    "1. NumPy\n",
    "2. Pandas\n",
    "3. Matplotlib\n",
    "4. Scikit-learn\n",
    "5. TensorFlow\n"
   ]
  },
  {
   "cell_type": "markdown",
   "id": "3da5f595-4092-4ce1-a330-bfe9d897efa3",
   "metadata": {},
   "source": [
    "| Data Science Tools |\n",
    "|--------------------|\n",
    "| Jupyter Notebook   |\n",
    "| RStudio            |\n",
    "| Apache Zeppelin    |\n"
   ]
  },
  {
   "cell_type": "markdown",
   "id": "9b3b2eb2-7b1e-4e30-9ae4-169edcb1ed1a",
   "metadata": {},
   "source": [
    "### Below are a few examples of evaluating arithmetic expressions in Python\n",
    "\n",
    "1. Addition: `3 + 5` results in `8`\n",
    "2. Subtraction: `10 - 4` results in `6`\n",
    "3. Multiplication: `7 * 6` results in `42`\n",
    "4. Division: `20 / 4` results in `5.0`\n",
    "5. Exponentiation: `2 ** 3` results in `8`\n"
   ]
  },
  {
   "cell_type": "markdown",
   "id": "0bc0b925-6af9-4c05-aafc-705f4ac0d6e0",
   "metadata": {},
   "source": [
    "# This is a simple arithmetic expression to multiply then add integers\n",
    "result = (3 * 4) + 5\n",
    "result\n"
   ]
  },
  {
   "cell_type": "code",
   "execution_count": 8,
   "id": "30fbcf1c-6bb3-4c47-a60e-d597bbdf7575",
   "metadata": {},
   "outputs": [
    {
     "data": {
      "text/plain": [
       "3.3333333333333335"
      ]
     },
     "execution_count": 8,
     "metadata": {},
     "output_type": "execute_result"
    }
   ],
   "source": [
    "# This will convert 200 minutes to hours by dividing by 60\n",
    "minutes = 200\n",
    "hours = minutes / 60\n",
    "hours\n"
   ]
  },
  {
   "cell_type": "markdown",
   "id": "b6d84633-8591-4b2e-8af0-612338ee76d3",
   "metadata": {},
   "source": [
    "**Objectives:**\n",
    "\n",
    "- List popular languages for Data Science\n",
    "- Identify commonly used libraries in Data Science\n",
    "- Explore development environment open-source tools for Data Science\n",
    "- Understand basic arithmetic operations in Python\n",
    "- Convert time units using Python\n"
   ]
  },
  {
   "cell_type": "markdown",
   "id": "baa6ea5d-ba5e-4609-9966-3bd1fb22a787",
   "metadata": {},
   "source": [
    "## Author\n",
    "\n",
    "[Your Name]\n"
   ]
  },
  {
   "cell_type": "code",
   "execution_count": null,
   "id": "ecb2d258-55f7-4238-9086-b2be32ffd8a2",
   "metadata": {},
   "outputs": [],
   "source": []
  }
 ],
 "metadata": {
  "kernelspec": {
   "display_name": "Python 3 (ipykernel)",
   "language": "python",
   "name": "python3"
  },
  "language_info": {
   "codemirror_mode": {
    "name": "ipython",
    "version": 3
   },
   "file_extension": ".py",
   "mimetype": "text/x-python",
   "name": "python",
   "nbconvert_exporter": "python",
   "pygments_lexer": "ipython3",
   "version": "3.11.9"
  }
 },
 "nbformat": 4,
 "nbformat_minor": 5
}
